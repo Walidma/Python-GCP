{
 "cells": [
  {
   "cell_type": "markdown",
   "metadata": {},
   "source": [
    "**Installer des logiciels sur l'instance de VM**\n",
    "\n",
    "sudo apt-get update\n",
    "sudo apt-get install git\n",
    "sudo apt-get install python-setuptools python-dev build-essential\n",
    "sudo easy_install pip\n",
    "\n",
    "**Vérifier l'installation de Python**\n",
    "\n",
    "python --version\n",
    "pip --version (pip is a package management system used to install and manage software packages written in Python.)\n",
    "\n",
    "**Cloner votre envinronnement de travail**\n",
    "\n",
    "git clone <https://github.com/....> (A modifier par votre path)\n",
    "\n",
    "**Exécutez un serveur Web simple :**\n",
    "\n",
    "sudo python server.py (Code de server.py dans la 2eme cell)\n",
    "\n",
    "**Installez les packages Python requis pour afficher les instances de VM Google Compute Engine :**\n",
    "\n",
    "sudo pip install -r requirements.txt (Code requirements.txt dans la 3e\n",
    "\n",
    "\n",
    "\n",
    "\n"
   ]
  },
  {
   "cell_type": "code",
   "execution_count": null,
   "metadata": {},
   "outputs": [],
   "source": [
    "#server.py\n",
    "\n",
    "try:\n",
    "  from BaseHTTPServer import BaseHTTPRequestHandler, HTTPServer\n",
    "except ImportError:\n",
    "  from http.server import BaseHTTPRequestHandler, HTTPServer\n",
    "\n",
    "class SimpleHTTPRequestHandler(BaseHTTPRequestHandler):\n",
    "  def do_GET(self):\n",
    "    self.send_response(200)\n",
    "    self.send_header('Content-type','text/plain')\n",
    "    self.end_headers()\n",
    "    self.wfile.write(b'Hello GCP dev!')\n",
    "    return\n",
    "\n",
    "  \n",
    "def run():\n",
    "  print('Server is starting...')\n",
    "  server_address = ('0.0.0.0', 80)\n",
    "  server = HTTPServer(server_address, SimpleHTTPRequestHandler)\n",
    "  print('Started. Press Ctrl + C to stop')\n",
    "  server.serve_forever()\n",
    "  \n",
    "if __name__ == '__main__':\n",
    "  run()"
   ]
  },
  {
   "cell_type": "code",
   "execution_count": null,
   "metadata": {},
   "outputs": [],
   "source": [
    "#requirements.txt\n",
    "\n",
    "google-api-python-client==1.6.4\n",
    "google-auth==1.2.1\n",
    "google-auth-httplib2==0.0.3\n",
    "\n"
   ]
  }
 ],
 "metadata": {
  "kernelspec": {
   "display_name": "Python 3",
   "language": "python",
   "name": "python3"
  },
  "language_info": {
   "codemirror_mode": {
    "name": "ipython",
    "version": 3
   },
   "file_extension": ".py",
   "mimetype": "text/x-python",
   "name": "python",
   "nbconvert_exporter": "python",
   "pygments_lexer": "ipython3",
   "version": "3.7.4"
  }
 },
 "nbformat": 4,
 "nbformat_minor": 2
}
