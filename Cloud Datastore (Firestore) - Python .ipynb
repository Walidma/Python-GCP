{
 "cells": [
  {
   "cell_type": "markdown",
   "metadata": {},
   "source": [
    "Google Cloud Datastore is a NoSQL document database built for automatic scaling, high performance, and ease of application development.\n",
    "\n",
    "export GCLOUD_PROJECT=$DEVSHELL_PROJECT_ID\n",
    "\n",
    "**Créer un environnement virtuel**\n",
    "Python virtual environments are used to isolate package installation from the system\n",
    "\n",
    "virtualenv -p python3 vrenv\n",
    "source vrenv/bin/activate (activer l'env virtuel)\n",
    "\n",
    "**Installer les dépendances**\n",
    "pip install -r requirements.txt (le code requirements.txt est ci-dessous)\n",
    "\n",
    "**Créer une App Engine application pour approvisioner Cloud Datastore**\n",
    "gcloud app create --region \"us-central\"\n",
    "\n",
    "Note: You aren't using App Engine for your web application yet. However, Cloud Datastore requires you to create an App Engine application in your project."
   ]
  },
  {
   "cell_type": "code",
   "execution_count": null,
   "metadata": {},
   "outputs": [],
   "source": [
    "#requirements.txt\n",
    "\n",
    "Flask==0.12\n",
    "google-cloud==0.27.0\n",
    "google-cloud-core==0.27.1\n",
    "google-cloud-datastore==1.3.0"
   ]
  },
  {
   "cell_type": "code",
   "execution_count": null,
   "metadata": {},
   "outputs": [],
   "source": [
    "        ##Import and use the Python Datastore module\n",
    "#Import the os module. => Use the os module to get the GCLOUD_PROJECT environment variable.\n",
    "   import os\n",
    "   project_id = os.getenv('GCLOUD_PROJECT')\n",
    "   \n",
    "#Import the datastore module from the google.cloud package.\n",
    "   from google.cloud import datastore\n",
    "   \n",
    " #Declare a datastore.Client client object named datastore_client.\n",
    "    datastore_client = datastore.Client(project_id)"
   ]
  },
  {
   "cell_type": "code",
   "execution_count": null,
   "metadata": {},
   "outputs": [],
   "source": [
    "       \n",
    "\"\"\"\n",
    "Create and persist and entity for each question\n",
    "The Datastore key is the equivalent of a primary key in a relational database.\n",
    "There are two main ways of writing a key:\n",
    "1. Specify the kind, and let Datastore generate a unique numeric id\n",
    "2. Specify the kind and a unique string id\n",
    "\"\"\"\n",
    "\n",
    "#Create a key for a Datastore entity whose kind is Question\n",
    "    key = datastore_client.key('Question')\n",
    "    \n",
    "    #Create a Datastore entity object using the key\n",
    "    q_entity = datastore.Entity(key=key)\n",
    "    \n",
    "    #Iterate over the form values supplied to the function\n",
    "    for q_prop, q_val in question.items():\n",
    "    #Assign each key and value to the Datastore entity\n",
    "        q_entity[q_prop] = q_val\n",
    "        \n",
    "    #Save the entity\n",
    "    datastore_client.put(q_entity)\n"
   ]
  },
  {
   "cell_type": "code",
   "execution_count": null,
   "metadata": {},
   "outputs": [],
   "source": [
    "\"\"\"\n",
    "Returns a list of question entities for a given quiz\n",
    "- filter by quiz name, defaulting to gcp\n",
    "- no paging\n",
    "- add in the entity key as the id property\n",
    "- if redact is true, remove the correctAnswer property from each entity\n",
    "\"\"\"\n",
    "def list_entities(quiz='gcp', redact=True):\n",
    "    query = datastore_client.query(kind='Question')\n",
    "    query.add_filter('quiz', '=', quiz)\n",
    "    results =list(query.fetch())\n",
    "    for result in results:\n",
    "        result['id'] = result.key.id\n",
    "    if redact:\n",
    "        for result in results:\n",
    "            del result['correctAnswer']\n",
    "    return results\n",
    "\"\"\"\n"
   ]
  }
 ],
 "metadata": {
  "kernelspec": {
   "display_name": "Python 3",
   "language": "python",
   "name": "python3"
  },
  "language_info": {
   "codemirror_mode": {
    "name": "ipython",
    "version": 3
   },
   "file_extension": ".py",
   "mimetype": "text/x-python",
   "name": "python",
   "nbconvert_exporter": "python",
   "pygments_lexer": "ipython3",
   "version": "3.7.4"
  }
 },
 "nbformat": 4,
 "nbformat_minor": 2
}
