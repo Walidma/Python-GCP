{
 "cells": [
  {
   "cell_type": "code",
   "execution_count": null,
   "metadata": {},
   "outputs": [],
   "source": [
    " #prepare_environment.sh\n",
    "    \n",
    "echo \"Creating Datastore/App Engine instance\"\n",
    "gcloud app create --region \"us-central\"\n",
    "\n",
    "\n",
    "echo \"Exporting GCLOUD_PROJECT\"\n",
    "export GCLOUD_PROJECT=$DEVSHELL_PROJECT_ID\n",
    "\n",
    "\n",
    "echo \"Creating virtual environment\"\n",
    "mkdir ~/venvs\n",
    "virtualenv -p python3 ~/venvs/developingapps\n",
    "source ~/venvs/developingapps/bin/activate\n",
    "\n",
    "echo \"Installing Python libraries\"\n",
    "pip install --upgrade pip\n",
    "pip install -r requirements.txt\n",
    "\n",
    "echo \"Creating Datastore entities\"\n",
    "python add_entities.py\n",
    "\n",
    "echo \"Project ID: $DEVSHELL_PROJECT_ID\"\n"
   ]
  },
  {
   "cell_type": "code",
   "execution_count": null,
   "metadata": {},
   "outputs": [],
   "source": [
    "# Get the Bucket name from the\n",
    "# GCLOUD_BUCKET environment variable\n",
    "bucket_name = os.getenv('GCLOUD_BUCKET')\n",
    "\n",
    "# Import the storage module\n",
    "from google.cloud import storage\n",
    "\n",
    "# Create a client for Cloud Storage\n",
    "storage_client = storage.Client()\n",
    "\n",
    "# Use the client to get the Cloud Storage bucket\n",
    "bucket = storage_client.get_bucket(bucket_name)\n"
   ]
  },
  {
   "cell_type": "code",
   "execution_count": null,
   "metadata": {},
   "outputs": [],
   "source": [
    "\"\"\"\n",
    "Uploads a file to a given Cloud Storage bucket and returns the public url\n",
    "to the new object.\n",
    "\"\"\"\n",
    "def upload_file(image_file, public):\n",
    "\n",
    "    # Use the bucket to get a blob object\n",
    "    blob = bucket.blob(image_file.filename)\n",
    "    \n",
    "    # Use the blob to upload the file\n",
    "    blob.upload_from_string(\n",
    "        image_file.read(),\n",
    "        content_type=image_file.content_type)\n",
    "\n",
    "    # Make the object public\n",
    "    if public:\n",
    "        blob.make_public()\n",
    "\n",
    "    # Modify to return the blob's Public URL\n",
    "    return blob.public_url\n",
    "\n"
   ]
  },
  {
   "cell_type": "code",
   "execution_count": null,
   "metadata": {},
   "outputs": [],
   "source": [
    "\"\"\"\n",
    "uploads file into google cloud storage\n",
    "- call method to upload file (public=true)\n",
    "- call datastore helper method to save question\n",
    "\"\"\"\n",
    "def save_question(data, image_file):\n",
    "\n",
    "    # If there is an image file, then upload it\n",
    "    # And assign the result to a new Datastore\n",
    "    # property imageUrl\n",
    "    # If there isn't, assign an empty string\n",
    "\n",
    "    if image_file:\n",
    "        data['imageUrl'] = str(\n",
    "                  upload_file(image_file, True))\n",
    "    else:\n",
    "        data['imageUrl'] = u''\n",
    "\n",
    "    data['correctAnswer'] = int(data['correctAnswer'])\n",
    "    datastore.save_question(data)\n",
    "    return\n",
    "\n"
   ]
  }
 ],
 "metadata": {
  "kernelspec": {
   "display_name": "Python 3",
   "language": "python",
   "name": "python3"
  },
  "language_info": {
   "codemirror_mode": {
    "name": "ipython",
    "version": 3
   },
   "file_extension": ".py",
   "mimetype": "text/x-python",
   "name": "python",
   "nbconvert_exporter": "python",
   "pygments_lexer": "ipython3",
   "version": "3.7.4"
  }
 },
 "nbformat": 4,
 "nbformat_minor": 2
}
